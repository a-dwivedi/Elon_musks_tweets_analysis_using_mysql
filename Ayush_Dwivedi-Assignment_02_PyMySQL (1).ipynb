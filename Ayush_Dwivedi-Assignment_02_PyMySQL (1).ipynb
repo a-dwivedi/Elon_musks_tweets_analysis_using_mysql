{
 "cells": [
  {
   "cell_type": "markdown",
   "metadata": {},
   "source": [
    "# Assignment 02 - MySQL\n",
    "*DBMS for Analytics*\n",
    "\n",
    "**Due: Wednesday, March 3rd, at midnight**"
   ]
  },
  {
   "cell_type": "markdown",
   "metadata": {},
   "source": [
    "*Notes:*\n",
    " - All code should follow the PEP 8 Style Guide for Python\n",
    " - Assignment should be submitted using jupyter notebooks\n",
    "  - File name should follow “{Your Name} – Assignment_XX_Submission”\n",
    "  - Each Task should be contained in its own cell\n",
    "  - Each Task should be properly commented\n",
    "  - Each Task should print out the answer to the Task if appropriate\n",
    "  - Sample submission can be found on blackboard\n",
    "  - **Not following these standards may result in lost points**"
   ]
  },
  {
   "cell_type": "markdown",
   "metadata": {},
   "source": [
    "---\n",
    "## Assignment Description\n",
    "For this assignment we are going to explore how the different structures for Mongo and SQL lead to different optimizations on how we can query data. "
   ]
  },
  {
   "cell_type": "code",
   "execution_count": 2,
   "metadata": {},
   "outputs": [],
   "source": [
    "from pymongo import MongoClient\n",
    "\n",
    "client = MongoClient(host='18.219.151.47', #host is the hostname for the database\n",
    "                     port=27017, #port is the port number that mongo is running on\n",
    "                     username='student', #username for the db\n",
    "                     password='emse6992pass', #password for the db\n",
    "                     authSource='emse6992') #Since our user only exists for the emse6992 db, we need to specify this\n",
    "\n",
    "db = client.emse6992\n",
    "stats_coll = db.twitter_statuses"
   ]
  },
  {
   "cell_type": "code",
   "execution_count": 79,
   "metadata": {},
   "outputs": [],
   "source": [
    "import pymysql\n",
    "\n",
    "conn = pymysql.connect(host='gwumysql-restore.cazdwdlcg6dm.us-east-2.rds.amazonaws.com',\n",
    "                             user='EMSE6992',\n",
    "                             port=3306,\n",
    "                             db='EMSE6992',\n",
    "                             password='MySQLpass')"
   ]
  },
  {
   "cell_type": "markdown",
   "metadata": {},
   "source": [
    "## Task 1\n",
    "Identify the set list (no duplicates) of users who have retweeted a statuses made by 'elonmusk' using both MySQL and Mongo. For both MySQL and Mongo ensure that your cell prints out the number of unique users.\n",
    "\n",
    "Expected Outputs:\n",
    " - MySQL: **312** users\n",
    " - Mongo: **312** users\n",
    "\n",
    "_Note: Mongo's distinct command can take a second parameter to filter prior to running **distinct** - `db.<collection_name>.distinct(<distinct_field>, {<filter>})`_"
   ]
  },
  {
   "cell_type": "code",
   "execution_count": 94,
   "metadata": {},
   "outputs": [
    {
     "name": "stdout",
     "output_type": "stream",
     "text": [
      "Number of unique users that retweeted Elon Musk's retweet are: 312\n"
     ]
    }
   ],
   "source": [
    "# Space for Mongo Implementation\n",
    "\n",
    "# this query works but returns a result of 276\n",
    "#db.getCollection('twitter_statuses').find({\"user_mentions.screen_name\":\"elonmusk\"})\n",
    "#This below query gives us a result of 493\n",
    "#db.getCollection('twitter_retweets').find({\"user_mentions.screen_name\":\"elonmusk\"}).count()\n",
    "#db.getCollection('twitter_retweets').find({\"retweeted_status.user.screen_name\":\"elonmusk\"}).count()\n",
    "#doc_twitter_statuses = stats_coll_statuses.find({\"user.screen_name\":\"elonmusk\"}).distinct(\"user.screen_name\")\n",
    "#doc_twitter_statuses_mentions = stats_coll_statuses.find({\"user_mentions.screen_name\":\"elonmusk\"}).distinct(\"user_mentions.screen_name\")\n",
    "#doc_twitter_retweets = stats_coll_retweets.find({\"user.screen_name\":\"elonmusk\"}).distinct(\"user.screen_name\")\n",
    "#doc_twitter_retweets_mentions = stats_coll_retweets.find({\"user_mentions.screen_name\":\"elonmusk\"}).distinct(\"user_mentions.screen_name\")\n",
    "\n",
    "stats_coll_statuses = db.twitter_statuses\n",
    "stats_coll_retweets = db.twitter_retweets\n",
    "\n",
    "doc_twitter_retweets_mentions_new = stats_coll_retweets.find({\"retweeted_status.user.screen_name\":\"elonmusk\"}).distinct(\"user.screen_name\")\n",
    "\n",
    "print(\"Number of unique users that retweeted Elon Musk's retweet are:\",len(doc_twitter_retweets_mentions_new))\n"
   ]
  },
  {
   "cell_type": "code",
   "execution_count": 95,
   "metadata": {},
   "outputs": [
    {
     "name": "stdout",
     "output_type": "stream",
     "text": [
      "Number of unique users that retweeted Elon Musk's retweet are: ((312,),)\n"
     ]
    }
   ],
   "source": [
    "# Space for MySQL implementation\n",
    "\n",
    "import pandas as pd\n",
    "\n",
    "cur = conn.cursor()\n",
    "\n",
    "# SQL Query to fetch the results\n",
    "\n",
    "res = cur.execute(\"select count(distinct user_id) from retweets where text like 'RT @elonmusk%'\")\n",
    "users = cur.fetchall()\n",
    "\n",
    "print(\"Number of unique users that retweeted Elon Musk's retweet are:\",users)"
   ]
  },
  {
   "cell_type": "markdown",
   "metadata": {},
   "source": [
    "## Task 2\n",
    "Identify the set list (no duplicates) of all users using Mongo and MySQL. For both MySQL and Mongo ensure that your cell prints out the number of unique users.\n",
    "\n",
    "Expected Outputs:\n",
    " - MySQL: **86202** users\n",
    " - Mongo: **102812** users\n",
    "   - *NOTE: your number may differ for Mongo depending on approach and thoroughness*"
   ]
  },
  {
   "cell_type": "code",
   "execution_count": null,
   "metadata": {},
   "outputs": [],
   "source": [
    "# Space for Mongo Implementation\n"
   ]
  },
  {
   "cell_type": "code",
   "execution_count": 98,
   "metadata": {},
   "outputs": [
    {
     "name": "stdout",
     "output_type": "stream",
     "text": [
      "The total number of Users in the twitter_friends collection is  24625\n",
      "The total number of Users in the twitter_friends collection is  24625\n",
      "The total number of Users in the twitter_lists collection is  130753\n",
      "The total number of Users in the twitter_lists collection is  2320\n",
      "The total number of Users in the twitter_retweets collection is  24926\n",
      "The total number of Users in the twitter_retweets collection is  568\n",
      "The total number of Users in the twitter_statuses collection is  192\n",
      "The total number of Users in the twitter_statuses collection is  9832\n",
      "The total number of Users in the twitter_favourites collection is  62564\n",
      "The total number of Users in the twitter_friends collection is  24414\n",
      "The total number of users in all the collections is : 304819\n",
      "The total number of Unique Users in all the collections is  234071\n"
     ]
    }
   ],
   "source": [
    "# creating instances of collections of the MongoDB\n",
    "\n",
    "stats_coll_favourites = db.twitter_favorites\n",
    "stats_coll_friends = db.twitter_friends\n",
    "stats_coll_lists = db.twitter_lists\n",
    "stats_coll_retweets = db.twitter_retweets\n",
    "stats_coll_statuses = db.twitter_statuses\n",
    "\n",
    "# Fetching all the users from the twitter_friends collection\n",
    "\n",
    "doc_friends = stats_coll_friends.find({}).distinct(\"screen_name\")\n",
    "doc_friends_mentions = stats_coll_friends.find({}).distinct(\"screen_name\")\n",
    "\n",
    "# Fetching all the users from the twitter_lists collection\n",
    "\n",
    "doc_lists = stats_coll_lists.find({}).distinct(\"members.screen_name\")\n",
    "doc_lists_mentions = stats_coll_lists.find({}).distinct(\"user.screen_name\")\n",
    "\n",
    "# Fetching all the users from the twitter_retweets collection\n",
    "\n",
    "doc_retweets = stats_coll_retweets.find({}).distinct(\"user.screen_name\")\n",
    "doc_retweets_mentions = stats_coll_retweets.find({}).distinct(\"user_mentions.screen_name\")\n",
    "\n",
    "# Fetching all the users from the twitter_statuses collection\n",
    "\n",
    "doc_statuses = stats_coll_statuses.find({}).distinct(\"user.screen_name\")\n",
    "doc_statuses_mentions = stats_coll_statuses.find({}).distinct(\"user_mentions.screen_name\")\n",
    "\n",
    "# Fetching all the users from the twitter_favorites collection\n",
    "\n",
    "doc_favourites = stats_coll_favourites.find({}).distinct(\"user.screen_name\")\n",
    "doc_favourites_mentions = stats_coll_favourites.find({}).distinct(\"user_mentions.screen_name\")\n",
    "\n",
    "# Printing the number of users for each collection\n",
    "\n",
    "\n",
    "print(\"The total number of Users in the twitter_friends collection is \",len(doc_friends))\n",
    "print(\"The total number of Users in the twitter_friends collection is \",len(doc_friends_mentions))\n",
    "print(\"The total number of Users in the twitter_lists collection is \",len(doc_lists))\n",
    "print(\"The total number of Users in the twitter_lists collection is \",len(doc_lists_mentions))\n",
    "print(\"The total number of Users in the twitter_retweets collection is \",len(doc_retweets))\n",
    "print(\"The total number of Users in the twitter_retweets collection is \",len(doc_retweets_mentions))\n",
    "print(\"The total number of Users in the twitter_statuses collection is \",len(doc_statuses))\n",
    "print(\"The total number of Users in the twitter_statuses collection is \",len(doc_statuses_mentions))\n",
    "print(\"The total number of Users in the twitter_favourites collection is \",len(doc_favourites))\n",
    "print(\"The total number of Users in the twitter_friends collection is \",len(doc_favourites_mentions))\n",
    "\n",
    "#Finding the sum of the total number users in all the collections\n",
    "\n",
    "sum = len(doc_friends) + len(doc_friends_mentions) + len(doc_lists) + len(doc_lists_mentions) + len(doc_retweets) + len(doc_retweets_mentions) + len(doc_statuses) + len(doc_statuses_mentions) + len(doc_favourites) + len(doc_favourites_mentions)\n",
    "print(\"The total number of users in all the collections is :\", sum)\n",
    "\n",
    "#Calculating the total number of unique users by removing the duplicate users\n",
    "\n",
    "total_deduplicated = set().union(doc_friends, doc_lists, doc_retweets,doc_statuses,doc_favourites,doc_friends_mentions,doc_lists_mentions,doc_retweets_mentions,doc_statuses_mentions,doc_favourites_mentions,doc_lists)\n",
    "print(\"The total number of Unique Users in all the collections is \",len(total_deduplicated))"
   ]
  },
  {
   "cell_type": "code",
   "execution_count": 81,
   "metadata": {},
   "outputs": [
    {
     "name": "stdout",
     "output_type": "stream",
     "text": [
      "The total number of distinct users for the MySQL database is : ((86202,),)\n"
     ]
    }
   ],
   "source": [
    "# Space for MySQL Implementation\n",
    "\n",
    "res = cur.execute(\"SELECT COUNT( DISTINCT user_id) FROM users\")\n",
    "users = cur.fetchall()\n",
    "\n",
    "print(\"The total number of distinct users for the MySQL database is :\",users)"
   ]
  },
  {
   "cell_type": "markdown",
   "metadata": {},
   "source": [
    "## Task 3\n",
    "For each of the previous tasks provide a couple of sentences identifying which database was easier to work with and detailing why that database's structure simplified the task.\n",
    "\n",
    "**Answer the prompt regarding Task 1:**"
   ]
  },
  {
   "cell_type": "markdown",
   "metadata": {},
   "source": [
    "For the Task1 where we have to find the distinct users that retweeted the status of Elon musk it was almost equal in difficulty to find the distinct users via the Mongo database and SQL database because in Mongo I had to use one collection and the query was pretty much straight forward to retrieve the distinct users from that collection. Similarly for the MySQL I had to use just one table and then a pretty much straight forward query to fetch the result. So I will say both of them were equal in difficulty for me.Now Structurally both the databases were easier in this case because the collection and the Table were quite sufficient to fetch the appropriate results and there was no dependeny on any other collection for this."
   ]
  },
  {
   "cell_type": "markdown",
   "metadata": {},
   "source": [
    "**Answer the prompt regarding Task 2:**"
   ]
  },
  {
   "cell_type": "markdown",
   "metadata": {},
   "source": [
    "For the Task 2 where we had to find the Unique User ID's in the database. For that task I feel that SQL database was much easier and the reason for that is - SQL Database a table of Users where all the users are listed and hence if I have to make a search for unique users it is quite feasible as all the results are obtained from just one table. However this is not the case with the Mongo DB as here there is no central collection from where I can directly find all the users and different collections have different number of users and hence it is challenging to use the MongoDB collection to do this task. In mongo I collected the distinct user names from the different collections and the created a set with all the unique users obtained from the various collections. Such tasks are way more efficient with SQL databases."
   ]
  },
  {
   "cell_type": "markdown",
   "metadata": {},
   "source": [
    "## Task 4\n",
    "How would you modify our SQL database to handle hashtags? Please provide information regarding what tables you would modify/create and how these modifications would enable the support for Hashtags.\n",
    "\n",
    "**Explanation:**"
   ]
  },
  {
   "cell_type": "markdown",
   "metadata": {},
   "source": [
    "So for handling the hastags what we can do is that we can create a seperate table for the Hashtags where each hash tag will be given a unique ID and that ways we will have a table with the unique hashtags.And now instead of creating any modifications to the exisitng tables what we can do is create a new table which will have have the hashtag_id and the status_id.  This way we can create a realtionship between the tags and the tweets by using the hastag_id and status_id as the Foriegn keys. This will help us manage things extremly efficiently as any time a new tweet is added we can just search if the hastag is already present- if it is present we can simply add the status_id to that hashtag_id and if not then we can simply add a new hastag with its hashtag_id and then link that particular tweet with it. So by using this approach we will not manipulate the existing table and our job of handling hashtags will get done.\n"
   ]
  },
  {
   "cell_type": "markdown",
   "metadata": {},
   "source": [
    "\n"
   ]
  },
  {
   "cell_type": "markdown",
   "metadata": {},
   "source": [
    "## Task 5\n",
    "If twitter decided to add the ability to customize tweets font/colors/etc., how would you implement this in SQL vs Mongo. Which do you think is easier to setup/easier to maintain.\n",
    "\n",
    "**Explanation:**"
   ]
  },
  {
   "cell_type": "markdown",
   "metadata": {},
   "source": [
    "If the twitter decides the ability to customize the tweets characterstics like adding fonts,colors,size etc then we can implement ways to store this information in the database using both Mongo DB and SQL.\n",
    "For storing the tweets attribute information we can create a new table with fields like id, color,size,font family type etc. where each field can be of its respective type for example the id can be integer. color can be var char,size can be int, font family type can be var char and so on. The id field can act both as a primary key and the Foreign key and can thus link each tweet accuractely with its users. So\n",
    "with SQl this can be implemented in this way. For implementing the same thing in the Mongo DB what we can do is very straightforward like we have done in twitter_lists collection where we have attributes like profile_text_color, profile_link_color etc. so similar to this approach we can create extra attributes like text_color,text_font, text_family along with the text attribute and store these values there. So I feel that implementing this with the MongoDB will be easier than with the MySQL because of the followign reasons-\n",
    "1. Horizontal Scalibility - Mongo DB has this unique thing where we can scale it horizontally that is new things can be added but SQL database has vertical scalability and hence this type of situation is a problem for SQL database.\n",
    "2. Data Schema - The data Schema of the Mongo DB is dynamic while of the SQL database is static so it is diffuclt to add things in SQL database.\n",
    "3. Agile Practices- MongoDB follows agile Practices and SQL databases do not and this type of problem requires agility."
   ]
  },
  {
   "cell_type": "code",
   "execution_count": null,
   "metadata": {},
   "outputs": [],
   "source": []
  },
  {
   "cell_type": "code",
   "execution_count": null,
   "metadata": {},
   "outputs": [],
   "source": []
  },
  {
   "cell_type": "code",
   "execution_count": null,
   "metadata": {},
   "outputs": [],
   "source": []
  }
 ],
 "metadata": {
  "kernelspec": {
   "display_name": "Python 3",
   "language": "python",
   "name": "python3"
  },
  "language_info": {
   "codemirror_mode": {
    "name": "ipython",
    "version": 3
   },
   "file_extension": ".py",
   "mimetype": "text/x-python",
   "name": "python",
   "nbconvert_exporter": "python",
   "pygments_lexer": "ipython3",
   "version": "3.8.5"
  }
 },
 "nbformat": 4,
 "nbformat_minor": 4
}
